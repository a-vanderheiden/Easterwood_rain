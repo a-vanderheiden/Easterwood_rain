{
 "cells": [
  {
   "cell_type": "code",
   "execution_count": 1,
   "metadata": {},
   "outputs": [],
   "source": [
    "import folium "
   ]
  },
  {
   "cell_type": "code",
   "execution_count": 2,
   "metadata": {},
   "outputs": [],
   "source": [
    "m = folium.Map(location = [30.5937, -96.3666],start_zoom = -7)#, tiles='Stamen Toner')\n",
    "\n",
    "folium.Marker(location = [30.5937, -96.3666], popup = 'CLL', icon = folium.Icon(icon = 'plane', color = 'darkred'), prefix = 'fa').add_to(m)\n",
    "folium.Marker(location = [29.9902, -95.3368], popup = 'IAH', icon = folium.Icon(icon = 'plane', color = 'blue'), prefix = 'fa').add_to(m)\n",
    "folium.Marker(location = [30.1975, -97.6664], popup = 'AUS', icon = folium.Icon(icon = 'plane', color = 'orange'), prefix = 'fa').add_to(m)\n",
    "folium.Marker(location = [32.8998, -97.0403], popup = 'DFW', icon = folium.Icon(icon = 'plane', color = 'green'), prefix = 'fa').add_to(m)\n",
    "\n",
    "m.save('Airport_locs.html')"
   ]
  },
  {
   "cell_type": "markdown",
   "metadata": {},
   "source": [
    "Here's the link to view the [html image](https://nbviewer.jupyter.org/github/adv-py-geos/Easterwood_rain/blob/master/.ipynb_checkpoints/Airport_locs.html); zoom out to see the other airports\n"
   ]
  }
 ],
 "metadata": {
  "kernelspec": {
   "display_name": "Python 3",
   "language": "python",
   "name": "python3"
  },
  "language_info": {
   "codemirror_mode": {
    "name": "ipython",
    "version": 3
   },
   "file_extension": ".py",
   "mimetype": "text/x-python",
   "name": "python",
   "nbconvert_exporter": "python",
   "pygments_lexer": "ipython3",
   "version": "3.7.8"
  }
 },
 "nbformat": 4,
 "nbformat_minor": 4
}
